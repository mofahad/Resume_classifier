{
 "cells": [
  {
   "cell_type": "markdown",
   "id": "baba923e-9775-4835-8c39-1600791975bd",
   "metadata": {},
   "source": [
    "### Project: Resume Classifier\r\n",
    "\r\n",
    "#### Description:\r\n",
    "This project classifies resumes into predefined job categories using machine learning and natural language processing (NLP) techniques. The solution includes Logistic Regression and XGBoost models trained on resume text features extracted using TF-IDF. The model is deployed as a Flask API for real-time predictions.\r\n",
    "\r\n",
    "#### Features:\r\n",
    "- **Data Preprocessing**: Cleaned and tokenized resume text, handled missing values, and managed class imbalance using SMOTE.\r\n",
    "- **Feature Extraction**: Used TF-IDF to convert resume text into numerical features.\r\n",
    "- **Model Training**: Built and evaluated Logistic Regression and XGBoost models with detailed classification reports.\r\n",
    "- **Deployment**: Saved models and vectorizer for deployment as a Flask API to classify resumes into categories like IT, HR, Finance, etc.\r\n",
    "\r\n",
    "#### Usage:\r\n",
    "1. Paste or upload resume text via a user-friendly web interface.\r\n",
    "2. Get real-time job category predictions.\r\n",
    "\r\n",
    "#### Saved Artifacts:\r\n",
    "- `logistic_regression_model.pkl`\r\n",
    "- `xgboost_model.pkl`\r\n",
    "- `tfidf_vectorizer.pkl`\r\n",
    "\r\n",
    "This project simplifies the resume screening process for HR teams by leveraging AI.\n",
    "resumes efficiently.\r\n"
   ]
  },
  {
   "cell_type": "code",
   "execution_count": 3,
   "id": "780514c7-47fb-4070-afac-238c1f6ee399",
   "metadata": {},
   "outputs": [
    {
     "name": "stdout",
     "output_type": "stream",
     "text": [
      "Columns: Index(['ID', 'Resume_str', 'Resume_html', 'Category'], dtype='object')\n",
      "Shape: (2484, 4)\n"
     ]
    },
    {
     "data": {
      "text/html": [
       "<div>\n",
       "<style scoped>\n",
       "    .dataframe tbody tr th:only-of-type {\n",
       "        vertical-align: middle;\n",
       "    }\n",
       "\n",
       "    .dataframe tbody tr th {\n",
       "        vertical-align: top;\n",
       "    }\n",
       "\n",
       "    .dataframe thead th {\n",
       "        text-align: right;\n",
       "    }\n",
       "</style>\n",
       "<table border=\"1\" class=\"dataframe\">\n",
       "  <thead>\n",
       "    <tr style=\"text-align: right;\">\n",
       "      <th></th>\n",
       "      <th>ID</th>\n",
       "      <th>Resume_str</th>\n",
       "      <th>Resume_html</th>\n",
       "      <th>Category</th>\n",
       "    </tr>\n",
       "  </thead>\n",
       "  <tbody>\n",
       "    <tr>\n",
       "      <th>0</th>\n",
       "      <td>16852973</td>\n",
       "      <td>HR ADMINISTRATOR/MARKETING ASSOCIATE\\...</td>\n",
       "      <td>&lt;div class=\"fontsize fontface vmargins hmargin...</td>\n",
       "      <td>HR</td>\n",
       "    </tr>\n",
       "    <tr>\n",
       "      <th>1</th>\n",
       "      <td>22323967</td>\n",
       "      <td>HR SPECIALIST, US HR OPERATIONS      ...</td>\n",
       "      <td>&lt;div class=\"fontsize fontface vmargins hmargin...</td>\n",
       "      <td>HR</td>\n",
       "    </tr>\n",
       "    <tr>\n",
       "      <th>2</th>\n",
       "      <td>33176873</td>\n",
       "      <td>HR DIRECTOR       Summary      Over 2...</td>\n",
       "      <td>&lt;div class=\"fontsize fontface vmargins hmargin...</td>\n",
       "      <td>HR</td>\n",
       "    </tr>\n",
       "    <tr>\n",
       "      <th>3</th>\n",
       "      <td>27018550</td>\n",
       "      <td>HR SPECIALIST       Summary    Dedica...</td>\n",
       "      <td>&lt;div class=\"fontsize fontface vmargins hmargin...</td>\n",
       "      <td>HR</td>\n",
       "    </tr>\n",
       "    <tr>\n",
       "      <th>4</th>\n",
       "      <td>17812897</td>\n",
       "      <td>HR MANAGER         Skill Highlights  ...</td>\n",
       "      <td>&lt;div class=\"fontsize fontface vmargins hmargin...</td>\n",
       "      <td>HR</td>\n",
       "    </tr>\n",
       "  </tbody>\n",
       "</table>\n",
       "</div>"
      ],
      "text/plain": [
       "         ID                                         Resume_str  \\\n",
       "0  16852973           HR ADMINISTRATOR/MARKETING ASSOCIATE\\...   \n",
       "1  22323967           HR SPECIALIST, US HR OPERATIONS      ...   \n",
       "2  33176873           HR DIRECTOR       Summary      Over 2...   \n",
       "3  27018550           HR SPECIALIST       Summary    Dedica...   \n",
       "4  17812897           HR MANAGER         Skill Highlights  ...   \n",
       "\n",
       "                                         Resume_html Category  \n",
       "0  <div class=\"fontsize fontface vmargins hmargin...       HR  \n",
       "1  <div class=\"fontsize fontface vmargins hmargin...       HR  \n",
       "2  <div class=\"fontsize fontface vmargins hmargin...       HR  \n",
       "3  <div class=\"fontsize fontface vmargins hmargin...       HR  \n",
       "4  <div class=\"fontsize fontface vmargins hmargin...       HR  "
      ]
     },
     "execution_count": 3,
     "metadata": {},
     "output_type": "execute_result"
    }
   ],
   "source": [
    "import pandas as pd\n",
    "\n",
    "# Load the dataset\n",
    "file_path = 'Resume.csv'  # Update with your file path\n",
    "resume_data = pd.read_csv('Resume.csv')\n",
    "\n",
    "# Display basic information\n",
    "print(\"Columns:\", resume_data.columns)\n",
    "print(\"Shape:\", resume_data.shape)\n",
    "resume_data.head()\n"
   ]
  },
  {
   "cell_type": "markdown",
   "id": "0b92d21d-cbf6-4f75-96fa-ab5c50ca0214",
   "metadata": {},
   "source": [
    "### Loading the Dataset\r\n",
    "- The dataset (`Resume.csv`) is loaded using **pandas** into a DataFrame.\r\n",
    "- Columns: `ID`, `Resume_str`, `Resume_html`, and `Category`.\r\n",
    "- Shape: 2484 rows and 4 columns, indicating a large dataset.\r\n",
    "- The first 5 rows preview the data for analysis and preprocessing.\r\n",
    "ta.\r\n"
   ]
  },
  {
   "cell_type": "code",
   "execution_count": 5,
   "id": "265b39ec-a647-41a2-92f4-5e8a558cd3dc",
   "metadata": {},
   "outputs": [
    {
     "data": {
      "text/html": [
       "<div>\n",
       "<style scoped>\n",
       "    .dataframe tbody tr th:only-of-type {\n",
       "        vertical-align: middle;\n",
       "    }\n",
       "\n",
       "    .dataframe tbody tr th {\n",
       "        vertical-align: top;\n",
       "    }\n",
       "\n",
       "    .dataframe thead th {\n",
       "        text-align: right;\n",
       "    }\n",
       "</style>\n",
       "<table border=\"1\" class=\"dataframe\">\n",
       "  <thead>\n",
       "    <tr style=\"text-align: right;\">\n",
       "      <th></th>\n",
       "      <th>ID</th>\n",
       "      <th>Resume_str</th>\n",
       "      <th>Resume_html</th>\n",
       "      <th>Category</th>\n",
       "      <th>Cleaned_Resume</th>\n",
       "    </tr>\n",
       "  </thead>\n",
       "  <tbody>\n",
       "    <tr>\n",
       "      <th>0</th>\n",
       "      <td>16852973</td>\n",
       "      <td>HR ADMINISTRATOR/MARKETING ASSOCIATE\\...</td>\n",
       "      <td>&lt;div class=\"fontsize fontface vmargins hmargin...</td>\n",
       "      <td>HR</td>\n",
       "      <td>hr administratormarketing associate hr adminis...</td>\n",
       "    </tr>\n",
       "    <tr>\n",
       "      <th>1</th>\n",
       "      <td>22323967</td>\n",
       "      <td>HR SPECIALIST, US HR OPERATIONS      ...</td>\n",
       "      <td>&lt;div class=\"fontsize fontface vmargins hmargin...</td>\n",
       "      <td>HR</td>\n",
       "      <td>hr specialist us hr operations summary versati...</td>\n",
       "    </tr>\n",
       "    <tr>\n",
       "      <th>2</th>\n",
       "      <td>33176873</td>\n",
       "      <td>HR DIRECTOR       Summary      Over 2...</td>\n",
       "      <td>&lt;div class=\"fontsize fontface vmargins hmargin...</td>\n",
       "      <td>HR</td>\n",
       "      <td>hr director summary over years experience in r...</td>\n",
       "    </tr>\n",
       "    <tr>\n",
       "      <th>3</th>\n",
       "      <td>27018550</td>\n",
       "      <td>HR SPECIALIST       Summary    Dedica...</td>\n",
       "      <td>&lt;div class=\"fontsize fontface vmargins hmargin...</td>\n",
       "      <td>HR</td>\n",
       "      <td>hr specialist summary dedicated driven and dyn...</td>\n",
       "    </tr>\n",
       "    <tr>\n",
       "      <th>4</th>\n",
       "      <td>17812897</td>\n",
       "      <td>HR MANAGER         Skill Highlights  ...</td>\n",
       "      <td>&lt;div class=\"fontsize fontface vmargins hmargin...</td>\n",
       "      <td>HR</td>\n",
       "      <td>hr manager skill highlights hr skills hr depar...</td>\n",
       "    </tr>\n",
       "  </tbody>\n",
       "</table>\n",
       "</div>"
      ],
      "text/plain": [
       "         ID                                         Resume_str  \\\n",
       "0  16852973           HR ADMINISTRATOR/MARKETING ASSOCIATE\\...   \n",
       "1  22323967           HR SPECIALIST, US HR OPERATIONS      ...   \n",
       "2  33176873           HR DIRECTOR       Summary      Over 2...   \n",
       "3  27018550           HR SPECIALIST       Summary    Dedica...   \n",
       "4  17812897           HR MANAGER         Skill Highlights  ...   \n",
       "\n",
       "                                         Resume_html Category  \\\n",
       "0  <div class=\"fontsize fontface vmargins hmargin...       HR   \n",
       "1  <div class=\"fontsize fontface vmargins hmargin...       HR   \n",
       "2  <div class=\"fontsize fontface vmargins hmargin...       HR   \n",
       "3  <div class=\"fontsize fontface vmargins hmargin...       HR   \n",
       "4  <div class=\"fontsize fontface vmargins hmargin...       HR   \n",
       "\n",
       "                                      Cleaned_Resume  \n",
       "0  hr administratormarketing associate hr adminis...  \n",
       "1  hr specialist us hr operations summary versati...  \n",
       "2  hr director summary over years experience in r...  \n",
       "3  hr specialist summary dedicated driven and dyn...  \n",
       "4  hr manager skill highlights hr skills hr depar...  "
      ]
     },
     "execution_count": 5,
     "metadata": {},
     "output_type": "execute_result"
    }
   ],
   "source": [
    "import re\n",
    "\n",
    "# Function to clean text\n",
    "def clean_text(text):\n",
    "    text = re.sub(r'<.*?>', '', text)  # Remove HTML tags\n",
    "    text = re.sub(r'[^a-zA-Z\\s]', '', text)  # Remove special characters\n",
    "    text = re.sub(r'\\s+', ' ', text)  # Remove extra spaces\n",
    "    return text.strip().lower()  # Convert to lowercase\n",
    "\n",
    "# Apply the function to clean the Resume_str column\n",
    "resume_data['Cleaned_Resume'] = resume_data['Resume_str'].apply(clean_text)\n",
    "\n",
    "# Check for missing values\n",
    "resume_data.dropna(subset=['Cleaned_Resume', 'Category'], inplace=True)\n",
    "resume_data.head()\n"
   ]
  },
  {
   "cell_type": "markdown",
   "id": "41dc1944-9f81-421a-b944-70d122d478ed",
   "metadata": {},
   "source": [
    "### Cleaning Text Data\r\n",
    "- A `clean_text` function is defined to:\r\n",
    "  - Remove HTML tags, special characters, and extra spaces using regular expressions.\r\n",
    "  - Convert text to lowercase for consistency.\r\n",
    "- The function is applied to the `Resume_str` column to create a new `Cleaned_Resume` column.\r\n",
    "- Missing values in the `Cleaned_Resume` and `Category` columns are dropped to ensure data integrity.\r\n",
    "- The first 5 rows are displayed to verify the cleaned data.\r\n"
   ]
  },
  {
   "cell_type": "code",
   "execution_count": 7,
   "id": "3be4d48a-9ac9-4fe8-92c8-c399c64ab8f1",
   "metadata": {},
   "outputs": [
    {
     "name": "stdout",
     "output_type": "stream",
     "text": [
      "Class Distribution:\n",
      " Category\n",
      "INFORMATION-TECHNOLOGY    120\n",
      "BUSINESS-DEVELOPMENT      120\n",
      "FINANCE                   118\n",
      "ADVOCATE                  118\n",
      "ACCOUNTANT                118\n",
      "ENGINEERING               118\n",
      "CHEF                      118\n",
      "AVIATION                  117\n",
      "FITNESS                   117\n",
      "SALES                     116\n",
      "BANKING                   115\n",
      "HEALTHCARE                115\n",
      "CONSULTANT                115\n",
      "CONSTRUCTION              112\n",
      "PUBLIC-RELATIONS          111\n",
      "HR                        110\n",
      "DESIGNER                  107\n",
      "ARTS                      103\n",
      "TEACHER                   102\n",
      "APPAREL                    97\n",
      "DIGITAL-MEDIA              96\n",
      "AGRICULTURE                63\n",
      "AUTOMOBILE                 36\n",
      "BPO                        22\n",
      "Name: count, dtype: int64\n"
     ]
    },
    {
     "data": {
      "image/png": "[encoded data removed]",
      "text/plain": [
       "<Figure size 1200x600 with 1 Axes>"
      ]
     },
     "metadata": {},
     "output_type": "display_data"
    }
   ],
   "source": [
    "class_distribution = resume_data['Category'].value_counts()\n",
    "print(\"Class Distribution:\\n\", class_distribution)\n",
    "\n",
    "# Plot the distribution\n",
    "import matplotlib.pyplot as plt\n",
    "\n",
    "class_distribution.plot(kind='bar', figsize=(12, 6))\n",
    "plt.title('Category Distribution')\n",
    "plt.xlabel('Category')\n",
    "plt.ylabel('Count')\n",
    "plt.show()\n"
   ]
  },
  {
   "cell_type": "markdown",
   "id": "d74d1e1c-2269-4748-a46b-8d71a79545ed",
   "metadata": {},
   "source": [
    "### Class Distribution and Visualization\r\n",
    "- The `Category` column is analyzed to determine the class distribution using `value_counts()`.\r\n",
    "- A bar plot is created to visualize the frequency of each job category.\r\n",
    "- Insights:\r\n",
    "  - The dataset has 24 unique job categories with varying counts.\r\n",
    "  - Classes like `INFORMATION-TECHNOLOGY` and `BUSINESS-DEVELOPMENT` are well-represented, while `BPO` has the fewest samples.\r\n",
    "- This analysis helps understand the class imbalance for modeling.\r\n"
   ]
  },
  {
   "cell_type": "code",
   "execution_count": 9,
   "id": "5c46fd77-b08d-4d98-82b2-bad875554209",
   "metadata": {},
   "outputs": [
    {
     "name": "stdout",
     "output_type": "stream",
     "text": [
      "Training size: 1738\n",
      "Testing size: 746\n"
     ]
    }
   ],
   "source": [
    "from sklearn.model_selection import train_test_split\n",
    "\n",
    "# Split the data\n",
    "X = resume_data['Cleaned_Resume']\n",
    "y = resume_data['Category']\n",
    "X_train, X_test, y_train, y_test = train_test_split(X, y, test_size=0.3, random_state=42, stratify=y)\n",
    "\n",
    "print(\"Training size:\", len(X_train))\n",
    "print(\"Testing size:\", len(X_test))\n"
   ]
  },
  {
   "cell_type": "markdown",
   "id": "b744a194-b0dd-4645-8550-b637b595e434",
   "metadata": {},
   "source": [
    "### Splitting the Data\r\n",
    "- The dataset is split into training and testing sets using `train_test_split` from scikit-learn:\r\n",
    "  - `X` contains the `Cleaned_Resume` column (features).\r\n",
    "  - `y` contains the `Category` column (target labels).\r\n",
    "- Parameters:\r\n",
    "  - `test_size=0.3`: 30% of the data is used for testing.\r\n",
    "  - `random_state=42`: Ensures reproducibility of the split.\r\n",
    "  - `stratify=y`: Maintains the class distribution in both training and testing sets.\r\n",
    "- Result:\r\n",
    "  - Training set size: 1738 samples.\r\n",
    "  - Testing set size: 746 samples.\r\n"
   ]
  },
  {
   "cell_type": "code",
   "execution_count": 11,
   "id": "e2bb61e7-be61-4c34-af91-9320149b8c17",
   "metadata": {},
   "outputs": [
    {
     "name": "stdout",
     "output_type": "stream",
     "text": [
      "TF-IDF feature shape (train): (1738, 5000)\n"
     ]
    }
   ],
   "source": [
    "from sklearn.feature_extraction.text import TfidfVectorizer\n",
    "\n",
    "# Initialize TF-IDF Vectorizer\n",
    "tfidf_vectorizer = TfidfVectorizer(max_features=5000)\n",
    "\n",
    "# Transform the text data\n",
    "X_train_tfidf = tfidf_vectorizer.fit_transform(X_train)\n",
    "X_test_tfidf = tfidf_vectorizer.transform(X_test)\n",
    "\n",
    "print(\"TF-IDF feature shape (train):\", X_train_tfidf.shape)\n"
   ]
  },
  {
   "cell_type": "markdown",
   "id": "2e05cf3b-17bc-43d7-a1be-16675db55f3f",
   "metadata": {},
   "source": [
    "### TF-IDF Vectorization\r\n",
    "- **TF-IDF Vectorizer** is initialized to extract text features:\r\n",
    "  - `max_features=5000`: Limits the vocabulary to the 5000 most important words.\r\n",
    "- **Transformation**:\r\n",
    "  - `fit_transform(X_train)`: Learns the vocabulary and transforms the training data into numerical features.\r\n",
    "  - `transform(X_test)`: Transforms the test data using the same vocabulary.\r\n",
    "- **Result**:\r\n",
    "  - Training data (`X_train_tfidf`) shape: `(1738, 5000)`, indicating 1738 samples and 5000 features.\r\n"
   ]
  },
  {
   "cell_type": "code",
   "execution_count": 13,
   "id": "17b9c1c1-58b3-4cb5-95c3-4d09418d5d17",
   "metadata": {},
   "outputs": [
    {
     "name": "stdout",
     "output_type": "stream",
     "text": [
      "Logistic Regression Accuracy: 0.6541554959785523\n",
      "                        precision    recall  f1-score   support\n",
      "\n",
      "            ACCOUNTANT       0.61      0.86      0.71        35\n",
      "              ADVOCATE       0.44      0.46      0.45        35\n",
      "           AGRICULTURE       0.54      0.37      0.44        19\n",
      "               APPAREL       0.59      0.45      0.51        29\n",
      "                  ARTS       0.50      0.29      0.37        31\n",
      "            AUTOMOBILE       0.36      0.36      0.36        11\n",
      "              AVIATION       0.88      0.66      0.75        35\n",
      "               BANKING       0.88      0.63      0.73        35\n",
      "                   BPO       0.80      0.57      0.67         7\n",
      "  BUSINESS-DEVELOPMENT       0.54      0.78      0.64        36\n",
      "                  CHEF       0.82      0.80      0.81        35\n",
      "          CONSTRUCTION       0.85      0.82      0.84        34\n",
      "            CONSULTANT       0.71      0.14      0.24        35\n",
      "              DESIGNER       0.79      0.72      0.75        32\n",
      "         DIGITAL-MEDIA       0.67      0.55      0.60        29\n",
      "           ENGINEERING       0.70      0.74      0.72        35\n",
      "               FINANCE       0.79      0.63      0.70        35\n",
      "               FITNESS       0.83      0.69      0.75        35\n",
      "            HEALTHCARE       0.58      0.63      0.60        35\n",
      "                    HR       0.77      0.91      0.83        33\n",
      "INFORMATION-TECHNOLOGY       0.63      1.00      0.77        36\n",
      "      PUBLIC-RELATIONS       0.59      0.82      0.68        33\n",
      "                 SALES       0.42      0.60      0.49        35\n",
      "               TEACHER       0.63      0.77      0.70        31\n",
      "\n",
      "              accuracy                           0.65       746\n",
      "             macro avg       0.66      0.64      0.63       746\n",
      "          weighted avg       0.67      0.65      0.64       746\n",
      "\n"
     ]
    },
    {
     "ename": "ValueError",
     "evalue": "Invalid classes inferred from unique values of `y`.  Expected: [ 0  1  2  3  4  5  6  7  8  9 10 11 12 13 14 15 16 17 18 19 20 21 22 23], got ['ACCOUNTANT' 'ADVOCATE' 'AGRICULTURE' 'APPAREL' 'ARTS' 'AUTOMOBILE'\n 'AVIATION' 'BANKING' 'BPO' 'BUSINESS-DEVELOPMENT' 'CHEF' 'CONSTRUCTION'\n 'CONSULTANT' 'DESIGNER' 'DIGITAL-MEDIA' 'ENGINEERING' 'FINANCE' 'FITNESS'\n 'HEALTHCARE' 'HR' 'INFORMATION-TECHNOLOGY' 'PUBLIC-RELATIONS' 'SALES'\n 'TEACHER']",
     "output_type": "error",
     "traceback": [
      "\u001b[1;31m---------------------------------------------------------------------------\u001b[0m",
      "\u001b[1;31mValueError\u001b[0m                                Traceback (most recent call last)",
      "Cell \u001b[1;32mIn[13], line 15\u001b[0m\n\u001b[0;32m     13\u001b[0m \u001b[38;5;66;03m# XGBoost\u001b[39;00m\n\u001b[0;32m     14\u001b[0m xgb_model \u001b[38;5;241m=\u001b[39m xgb\u001b[38;5;241m.\u001b[39mXGBClassifier(eval_metric\u001b[38;5;241m=\u001b[39m\u001b[38;5;124m'\u001b[39m\u001b[38;5;124mmlogloss\u001b[39m\u001b[38;5;124m'\u001b[39m, use_label_encoder\u001b[38;5;241m=\u001b[39m\u001b[38;5;28;01mFalse\u001b[39;00m)\n\u001b[1;32m---> 15\u001b[0m xgb_model\u001b[38;5;241m.\u001b[39mfit(X_train_tfidf, y_train)\n\u001b[0;32m     16\u001b[0m y_pred_xgb \u001b[38;5;241m=\u001b[39m xgb_model\u001b[38;5;241m.\u001b[39mpredict(X_test_tfidf)\n\u001b[0;32m     18\u001b[0m \u001b[38;5;28mprint\u001b[39m(\u001b[38;5;124m\"\u001b[39m\u001b[38;5;124mXGBoost Accuracy:\u001b[39m\u001b[38;5;124m\"\u001b[39m, accuracy_score(y_test, y_pred_xgb))\n",
      "File \u001b[1;32m~\\anaconda4\\Lib\\site-packages\\xgboost\\core.py:726\u001b[0m, in \u001b[0;36mrequire_keyword_args.<locals>.throw_if.<locals>.inner_f\u001b[1;34m(*args, **kwargs)\u001b[0m\n\u001b[0;32m    724\u001b[0m \u001b[38;5;28;01mfor\u001b[39;00m k, arg \u001b[38;5;129;01min\u001b[39;00m \u001b[38;5;28mzip\u001b[39m(sig\u001b[38;5;241m.\u001b[39mparameters, args):\n\u001b[0;32m    725\u001b[0m     kwargs[k] \u001b[38;5;241m=\u001b[39m arg\n\u001b[1;32m--> 726\u001b[0m \u001b[38;5;28;01mreturn\u001b[39;00m func(\u001b[38;5;241m*\u001b[39m\u001b[38;5;241m*\u001b[39mkwargs)\n",
      "File \u001b[1;32m~\\anaconda4\\Lib\\site-packages\\xgboost\\sklearn.py:1491\u001b[0m, in \u001b[0;36mXGBClassifier.fit\u001b[1;34m(self, X, y, sample_weight, base_margin, eval_set, verbose, xgb_model, sample_weight_eval_set, base_margin_eval_set, feature_weights)\u001b[0m\n\u001b[0;32m   1486\u001b[0m     expected_classes \u001b[38;5;241m=\u001b[39m \u001b[38;5;28mself\u001b[39m\u001b[38;5;241m.\u001b[39mclasses_\n\u001b[0;32m   1487\u001b[0m \u001b[38;5;28;01mif\u001b[39;00m (\n\u001b[0;32m   1488\u001b[0m     classes\u001b[38;5;241m.\u001b[39mshape \u001b[38;5;241m!=\u001b[39m expected_classes\u001b[38;5;241m.\u001b[39mshape\n\u001b[0;32m   1489\u001b[0m     \u001b[38;5;129;01mor\u001b[39;00m \u001b[38;5;129;01mnot\u001b[39;00m (classes \u001b[38;5;241m==\u001b[39m expected_classes)\u001b[38;5;241m.\u001b[39mall()\n\u001b[0;32m   1490\u001b[0m ):\n\u001b[1;32m-> 1491\u001b[0m     \u001b[38;5;28;01mraise\u001b[39;00m \u001b[38;5;167;01mValueError\u001b[39;00m(\n\u001b[0;32m   1492\u001b[0m         \u001b[38;5;124mf\u001b[39m\u001b[38;5;124m\"\u001b[39m\u001b[38;5;124mInvalid classes inferred from unique values of `y`.  \u001b[39m\u001b[38;5;124m\"\u001b[39m\n\u001b[0;32m   1493\u001b[0m         \u001b[38;5;124mf\u001b[39m\u001b[38;5;124m\"\u001b[39m\u001b[38;5;124mExpected: \u001b[39m\u001b[38;5;132;01m{\u001b[39;00mexpected_classes\u001b[38;5;132;01m}\u001b[39;00m\u001b[38;5;124m, got \u001b[39m\u001b[38;5;132;01m{\u001b[39;00mclasses\u001b[38;5;132;01m}\u001b[39;00m\u001b[38;5;124m\"\u001b[39m\n\u001b[0;32m   1494\u001b[0m     )\n\u001b[0;32m   1496\u001b[0m params \u001b[38;5;241m=\u001b[39m \u001b[38;5;28mself\u001b[39m\u001b[38;5;241m.\u001b[39mget_xgb_params()\n\u001b[0;32m   1498\u001b[0m \u001b[38;5;28;01mif\u001b[39;00m \u001b[38;5;28mcallable\u001b[39m(\u001b[38;5;28mself\u001b[39m\u001b[38;5;241m.\u001b[39mobjective):\n",
      "\u001b[1;31mValueError\u001b[0m: Invalid classes inferred from unique values of `y`.  Expected: [ 0  1  2  3  4  5  6  7  8  9 10 11 12 13 14 15 16 17 18 19 20 21 22 23], got ['ACCOUNTANT' 'ADVOCATE' 'AGRICULTURE' 'APPAREL' 'ARTS' 'AUTOMOBILE'\n 'AVIATION' 'BANKING' 'BPO' 'BUSINESS-DEVELOPMENT' 'CHEF' 'CONSTRUCTION'\n 'CONSULTANT' 'DESIGNER' 'DIGITAL-MEDIA' 'ENGINEERING' 'FINANCE' 'FITNESS'\n 'HEALTHCARE' 'HR' 'INFORMATION-TECHNOLOGY' 'PUBLIC-RELATIONS' 'SALES'\n 'TEACHER']"
     ]
    }
   ],
   "source": [
    "from sklearn.linear_model import LogisticRegression\n",
    "from sklearn.metrics import classification_report, confusion_matrix, accuracy_score\n",
    "import xgboost as xgb\n",
    "\n",
    "# Logistic Regression\n",
    "lr_model = LogisticRegression(max_iter=1000, class_weight='balanced')\n",
    "lr_model.fit(X_train_tfidf, y_train)\n",
    "y_pred_lr = lr_model.predict(X_test_tfidf)\n",
    "\n",
    "print(\"Logistic Regression Accuracy:\", accuracy_score(y_test, y_pred_lr))\n",
    "print(classification_report(y_test, y_pred_lr))\n",
    "\n",
    "# XGBoost\n",
    "xgb_model = xgb.XGBClassifier(eval_metric='mlogloss', use_label_encoder=False)\n",
    "xgb_model.fit(X_train_tfidf, y_train)\n",
    "y_pred_xgb = xgb_model.predict(X_test_tfidf)\n",
    "\n",
    "print(\"XGBoost Accuracy:\", accuracy_score(y_test, y_pred_xgb))\n",
    "print(classification_report(y_test, y_pred_xgb))\n"
   ]
  },
  {
   "cell_type": "markdown",
   "id": "5eb7a9cf-47ef-45b9-912c-8d6b94b4cddc",
   "metadata": {},
   "source": [
    "### Model Training and Evaluation\r\n",
    "1. **Logistic Regression**:\r\n",
    "   - Trained using `LogisticRegression` with `class_weight='balanced'` to handle class imbalance.\r\n",
    "   - Accuracy: 65.4%.\r\n",
    "   - A classification report (precision, recall, f1-score) provides detailed performance metrics.\r\n",
    "\r\n",
    "2. **XGBoost**:\r\n",
    "   - Trained using `XGBClassifier` with `mlogloss` as the evaluation metric.\r\n",
    "   - An error occurred due to class label mismatch, which will be resolved in the next step.\r\n",
    "\r\n",
    "3. **Observations**:\r\n",
    "   - Logistic Regression performs moderately well.\r\n",
    "   - The class imbalance and potential preprocessing issues impacted XGBoost.\r\n"
   ]
  },
  {
   "cell_type": "code",
   "execution_count": 15,
   "id": "66739e6b-be32-4a40-9a0f-94a36f3af879",
   "metadata": {},
   "outputs": [],
   "source": [
    "from sklearn.preprocessing import LabelEncoder\n",
    "\n",
    "# Encode target labels\n",
    "label_encoder = LabelEncoder()\n",
    "y_train_encoded = label_encoder.fit_transform(y_train)\n",
    "y_test_encoded = label_encoder.transform(y_test)\n"
   ]
  },
  {
   "cell_type": "markdown",
   "id": "4f44b7d3-7b97-4d16-b4b2-04dabb7e1c19",
   "metadata": {},
   "source": [
    "### Encoding Target Labels\r\n",
    "- `LabelEncoder` is used to convert categorical target labels (`y_train` and `y_test`) into numerical values.\r\n",
    "- **Steps**:\r\n",
    "  - `fit_transform(y_train)`: Fits the encoder to the training labels and transforms them into integers.\r\n",
    "  - `transform(y_test)`: Transforms the test labels using the same encoding.\r\n",
    "- This encoding resolves the class label mismatch issue for models like XGBoost that require numerical targets.\r\n"
   ]
  },
  {
   "cell_type": "code",
   "execution_count": 17,
   "id": "cce8f835-a175-4d27-8d99-73a45c48e33d",
   "metadata": {},
   "outputs": [],
   "source": [
    "from imblearn.over_sampling import SMOTE\n",
    "\n",
    "smote = SMOTE(random_state=42)\n",
    "X_train_resampled, y_train_resampled = smote.fit_resample(X_train_tfidf, y_train_encoded)\n"
   ]
  },
  {
   "cell_type": "markdown",
   "id": "37829e24-1057-4e0e-b637-59e0584f30fd",
   "metadata": {},
   "source": [
    "### Handling Class Imbalance with SMOTE\r\n",
    "- **SMOTE (Synthetic Minority Oversampling Technique)**:\r\n",
    "  - Generates synthetic samples for minority classes to balance the dataset.\r\n",
    "- **Steps**:\r\n",
    "  - `fit_resample(X_train_tfidf, y_train_encoded)`: Resamples the training data to balance class distributions.\r\n",
    "  - Creates a new training set (`X_train_resampled`, `y_train_resampled`) with equal representation of all classes.\r\n",
    "- This ensures the model does not favor majority classes during training.\r\n"
   ]
  },
  {
   "cell_type": "code",
   "execution_count": 19,
   "id": "3c30e719-da65-4542-bd99-c261fb4eec25",
   "metadata": {},
   "outputs": [],
   "source": [
    "from collections import Counter\n",
    "\n",
    "class_weights = Counter(y_train_encoded)\n",
    "xgb_model = xgb.XGBClassifier(eval_metric='mlogloss', scale_pos_weight=class_weights)\n"
   ]
  },
  {
   "cell_type": "markdown",
   "id": "f18d77aa-54bc-417c-9fd1-b58cea627714",
   "metadata": {},
   "source": [
    "### Using Class Weights for Imbalanced Data\r\n",
    "- **`Counter`**:\r\n",
    "  - Computes the frequency of each class in the `y_train_encoded` dataset.\r\n",
    "  - Used to calculate `class_weights`, which are passed to the model to handle class imbalance.\r\n",
    "\r\n",
    "- **XGBoost with Class Weights**:\r\n",
    "  - `scale_pos_weight=class_weights`: Adjusts the model's weighting for each class based on its frequency, ensuring better performance on minority classes.\r\n",
    "  - `eval_metric='mlogloss'`: Specifies the evaluation metric (log loss) for training.\r\n",
    "\r\n",
    "- This approach complements SMOTE or can be used independently for managing class imbalance.\r\n"
   ]
  },
  {
   "cell_type": "code",
   "execution_count": 21,
   "id": "f2be78b3-e405-4379-bdac-7ab41bb9f0a5",
   "metadata": {},
   "outputs": [
    {
     "name": "stderr",
     "output_type": "stream",
     "text": [
      "C:\\Users\\mdfah\\anaconda4\\Lib\\site-packages\\xgboost\\core.py:158: UserWarning: [22:02:38] WARNING: C:\\buildkite-agent\\builds\\buildkite-windows-cpu-autoscaling-group-i-0c55ff5f71b100e98-1\\xgboost\\xgboost-ci-windows\\src\\learner.cc:740: \n",
      "Parameters: { \"scale_pos_weight\" } are not used.\n",
      "\n",
      "  warnings.warn(smsg, UserWarning)\n"
     ]
    }
   ],
   "source": [
    "xgb_model.fit(X_train_resampled, y_train_resampled)\n",
    "y_pred_xgb = xgb_model.predict(X_test_tfidf)\n"
   ]
  },
  {
   "cell_type": "markdown",
   "id": "4fb6a30e-6a2e-439b-a213-8d6be0023d2b",
   "metadata": {},
   "source": [
    "### Training XGBoost with Resampled Data\r\n",
    "- The XGBoost model is trained on the resampled data:\r\n",
    "  - `fit(X_train_resampled, y_train_resampled)`: Fits the model on the balanced dataset.\r\n",
    "  - `predict(X_test_tfidf)`: Makes predictions on the test set.\r\n",
    "\r\n",
    "### Warning Explanation\r\n",
    "- **Warning**: The `scale_pos_weight` parameter is not being used.\r\n",
    "- **Reason**: When using resampled data (via SMOTE), the dataset is already balanced, so `scale_pos_weight` becomes irrelevant.\r\n",
    "- **Solution**: Remove `scale_pos_weight` when training on resampled data to avoid confusion.\r\n"
   ]
  },
  {
   "cell_type": "code",
   "execution_count": 23,
   "id": "a0278c9e-a2d0-4e4b-989d-add798c2df94",
   "metadata": {},
   "outputs": [],
   "source": [
    "y_pred_xgb_labels = label_encoder.inverse_transform(y_pred_xgb)\n"
   ]
  },
  {
   "cell_type": "markdown",
   "id": "c28d1c51-d56f-40d8-a9bd-3888e04ffd05",
   "metadata": {},
   "source": [
    "### Decoding Predicted Labels\r\n",
    "- **Purpose**:\r\n",
    "  - Converts the predicted numerical labels (`y_pred_xgb`) back into their original categorical form using the `LabelEncoder`.\r\n",
    "\r\n",
    "- **Code**:\r\n",
    "  - `label_encoder.inverse_transform(y_pred_xgb)`:\r\n",
    "    - Maps the integer-encoded predictions back to their corresponding category names.\r\n",
    "    - For example, `0` becomes `ACCOUNTANT`, `1` becomes `ENGINEER`, etc.\r\n",
    "\r\n",
    "- **Result**:\r\n",
    "  - `y_pred_xgb_labels` now contains the human-readable job categories for the predictions.\r\n"
   ]
  },
  {
   "cell_type": "code",
   "execution_count": 25,
   "id": "4cdbd3f4-0876-42e7-ac2e-ef287c57a574",
   "metadata": {},
   "outputs": [
    {
     "name": "stdout",
     "output_type": "stream",
     "text": [
      "XGBoost Accuracy: 0.7319034852546917\n",
      "                        precision    recall  f1-score   support\n",
      "\n",
      "            ACCOUNTANT       0.69      0.94      0.80        35\n",
      "              ADVOCATE       0.85      0.80      0.82        35\n",
      "           AGRICULTURE       0.75      0.32      0.44        19\n",
      "               APPAREL       0.60      0.41      0.49        29\n",
      "                  ARTS       0.54      0.42      0.47        31\n",
      "            AUTOMOBILE       0.40      0.18      0.25        11\n",
      "              AVIATION       0.90      0.80      0.85        35\n",
      "               BANKING       0.70      0.66      0.68        35\n",
      "                   BPO       0.67      0.29      0.40         7\n",
      "  BUSINESS-DEVELOPMENT       0.62      0.69      0.66        36\n",
      "                  CHEF       0.91      0.83      0.87        35\n",
      "          CONSTRUCTION       0.94      0.91      0.93        34\n",
      "            CONSULTANT       0.55      0.63      0.59        35\n",
      "              DESIGNER       0.81      0.94      0.87        32\n",
      "         DIGITAL-MEDIA       0.68      0.59      0.63        29\n",
      "           ENGINEERING       0.76      0.89      0.82        35\n",
      "               FINANCE       0.74      0.66      0.70        35\n",
      "               FITNESS       0.71      0.77      0.74        35\n",
      "            HEALTHCARE       0.74      0.74      0.74        35\n",
      "                    HR       0.75      0.91      0.82        33\n",
      "INFORMATION-TECHNOLOGY       0.69      0.86      0.77        36\n",
      "      PUBLIC-RELATIONS       0.76      0.79      0.78        33\n",
      "                 SALES       0.69      0.71      0.70        35\n",
      "               TEACHER       0.76      0.84      0.80        31\n",
      "\n",
      "              accuracy                           0.73       746\n",
      "             macro avg       0.72      0.69      0.69       746\n",
      "          weighted avg       0.73      0.73      0.72       746\n",
      "\n"
     ]
    }
   ],
   "source": [
    "from sklearn.metrics import classification_report, accuracy_score\n",
    "\n",
    "print(\"XGBoost Accuracy:\", accuracy_score(y_test_encoded, y_pred_xgb))\n",
    "print(classification_report(y_test_encoded, y_pred_xgb, target_names=label_encoder.classes_))\n"
   ]
  },
  {
   "cell_type": "markdown",
   "id": "826f5f84-65e9-432b-bd19-8d885305d368",
   "metadata": {},
   "source": [
    "### Evaluating XGBoost Model\r\n",
    "- **Accuracy**:\r\n",
    "  - `accuracy_score`: Calculates the proportion of correct predictions out of the total predictions.\r\n",
    "  - XGBoost achieved an accuracy of **73.2%**.\r\n",
    "\r\n",
    "- **Classification Report**:\r\n",
    "  - Includes metrics like **precision**, **recall**, **f1-score**, and **support** for each category.\r\n",
    "  - `target_names=label_encoder.classes_`: Displays the original category names instead of numerical labels.\r\n",
    "  \r\n",
    "- **Insights**:\r\n",
    "  - XGBoost performed well for categories like `CONSTRUCTION` and `CHEF`.\r\n",
    "  - Categories with fewer samples, like `BPO` and `AUTOMOBILE`, have lower recall and f1-scores due to class imbalance.\r\n"
   ]
  },
  {
   "cell_type": "code",
   "execution_count": 27,
   "id": "f3e60040-ffc9-4b9c-943a-6a8f036c8e9a",
   "metadata": {},
   "outputs": [
    {
     "data": {
      "text/plain": [
       "['tfidf_vectorizer.pkl']"
      ]
     },
     "execution_count": 27,
     "metadata": {},
     "output_type": "execute_result"
    }
   ],
   "source": [
    "import joblib\n",
    "\n",
    "# Save models and vectorizer\n",
    "joblib.dump(lr_model, 'logistic_regression_model.pkl')\n",
    "joblib.dump(xgb_model, 'xgboost_model.pkl')\n",
    "joblib.dump(tfidf_vectorizer, 'tfidf_vectorizer.pkl')\n"
   ]
  },
  {
   "cell_type": "markdown",
   "id": "53f86d08-69ac-4d68-b7a0-9a2614912ead",
   "metadata": {},
   "source": [
    "### Saving Models and Vectorizer\r\n",
    "- **Purpose**:\r\n",
    "  - Save trained models and the TF-IDF vectorizer for reuse without retraining.\r\n",
    "- **Code**:\r\n",
    "  - `joblib.dump`: Serializes objects into `.pkl` (pickle) files.\r\n",
    "    - `logistic_regression_model.pkl`: Saved Logistic Regression model.\r\n",
    "    - `xgboost_model.pkl`: Saved XGBoost model.\r\n",
    "    - `tfidf_vectorizer.pkl`: Saved TF-IDF vectorizer.\r\n",
    "- **Result**:\r\n",
    "  - These files can be loaded later for predictions in a production environment, such as a Flask API.\r\n"
   ]
  },
  {
   "cell_type": "code",
   "execution_count": null,
   "id": "f0817b10-cdb1-434a-a19c-b8d3c320501c",
   "metadata": {},
   "outputs": [],
   "source": []
  }
 ],
 "metadata": {
  "kernelspec": {
   "display_name": "Python 3 (ipykernel)",
   "language": "python",
   "name": "python3"
  },
  "language_info": {
   "codemirror_mode": {
    "name": "ipython",
    "version": 3
   },
   "file_extension": ".py",
   "mimetype": "text/x-python",
   "name": "python",
   "nbconvert_exporter": "python",
   "pygments_lexer": "ipython3",
   "version": "3.12.4"
  }
 },
 "nbformat": 4,
 "nbformat_minor": 5
}
