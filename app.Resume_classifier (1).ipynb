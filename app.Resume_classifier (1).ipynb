{
 "cells": [
  {
   "cell_type": "markdown",
   "id": "9feb6f67-310f-490c-b0b7-190d4f80adfd",
   "metadata": {},
   "source": [
    "### Flask Application for Resume Classifier"
   ]
  },
  {
   "cell_type": "code",
   "execution_count": 1,
   "id": "8464d88d-c14d-4959-803d-d1a025332a0d",
   "metadata": {},
   "outputs": [
    {
     "name": "stdout",
     "output_type": "stream",
     "text": [
      "Requirement already satisfied: flask in c:\\users\\mdfah\\anaconda4\\lib\\site-packages (3.0.3)\n",
      "Requirement already satisfied: nest_asyncio in c:\\users\\mdfah\\anaconda4\\lib\\site-packages (1.6.0)\n",
      "Requirement already satisfied: Werkzeug>=3.0.0 in c:\\users\\mdfah\\anaconda4\\lib\\site-packages (from flask) (3.0.3)\n",
      "Requirement already satisfied: Jinja2>=3.1.2 in c:\\users\\mdfah\\anaconda4\\lib\\site-packages (from flask) (3.1.4)\n",
      "Requirement already satisfied: itsdangerous>=2.1.2 in c:\\users\\mdfah\\anaconda4\\lib\\site-packages (from flask) (2.2.0)\n",
      "Requirement already satisfied: click>=8.1.3 in c:\\users\\mdfah\\anaconda4\\lib\\site-packages (from flask) (8.1.7)\n",
      "Requirement already satisfied: blinker>=1.6.2 in c:\\users\\mdfah\\anaconda4\\lib\\site-packages (from flask) (1.6.2)\n",
      "Requirement already satisfied: colorama in c:\\users\\mdfah\\anaconda4\\lib\\site-packages (from click>=8.1.3->flask) (0.4.6)\n",
      "Requirement already satisfied: MarkupSafe>=2.0 in c:\\users\\mdfah\\anaconda4\\lib\\site-packages (from Jinja2>=3.1.2->flask) (2.1.3)\n",
      "Note: you may need to restart the kernel to use updated packages.\n"
     ]
    }
   ],
   "source": [
    "pip install flask nest_asyncio"
   ]
  },
  {
   "cell_type": "markdown",
   "id": "a8779742-d764-419c-bb62-791308258e7d",
   "metadata": {},
   "source": [
    "### Installing Required Libraries\r\n",
    "- **Command**: `pip install flask nest_asyncio`\r\n",
    "  - **`flask`**: A lightweight web framework for building APIs and web applications.\r\n",
    "  - **`nest_asyncio`**: Allows the use of `asyncio` in Jupyter Notebook environments, making it possible to run a Flask server inside a notebook.\r\n",
    "- **Purpose**:\r\n",
    "  - Install dependencies to build and run a Flask-based API for the project.\r\n",
    "- **Usage**:\r\n",
    "  - Run this command in your terminal or Jupyter Notebook cell to ensure the required libraries are available.\r\n"
   ]
  },
  {
   "cell_type": "code",
   "execution_count": 3,
   "id": "1dd92ddb-0d22-41aa-9c71-979eeefcff25",
   "metadata": {},
   "outputs": [
    {
     "name": "stdout",
     "output_type": "stream",
     "text": [
      "Requirement already satisfied: flask-cors in c:\\users\\mdfah\\anaconda4\\lib\\site-packages (5.0.0)\n",
      "Requirement already satisfied: Flask>=0.9 in c:\\users\\mdfah\\anaconda4\\lib\\site-packages (from flask-cors) (3.0.3)\n",
      "Requirement already satisfied: Werkzeug>=3.0.0 in c:\\users\\mdfah\\anaconda4\\lib\\site-packages (from Flask>=0.9->flask-cors) (3.0.3)\n",
      "Requirement already satisfied: Jinja2>=3.1.2 in c:\\users\\mdfah\\anaconda4\\lib\\site-packages (from Flask>=0.9->flask-cors) (3.1.4)\n",
      "Requirement already satisfied: itsdangerous>=2.1.2 in c:\\users\\mdfah\\anaconda4\\lib\\site-packages (from Flask>=0.9->flask-cors) (2.2.0)\n",
      "Requirement already satisfied: click>=8.1.3 in c:\\users\\mdfah\\anaconda4\\lib\\site-packages (from Flask>=0.9->flask-cors) (8.1.7)\n",
      "Requirement already satisfied: blinker>=1.6.2 in c:\\users\\mdfah\\anaconda4\\lib\\site-packages (from Flask>=0.9->flask-cors) (1.6.2)\n",
      "Requirement already satisfied: colorama in c:\\users\\mdfah\\anaconda4\\lib\\site-packages (from click>=8.1.3->Flask>=0.9->flask-cors) (0.4.6)\n",
      "Requirement already satisfied: MarkupSafe>=2.0 in c:\\users\\mdfah\\anaconda4\\lib\\site-packages (from Jinja2>=3.1.2->Flask>=0.9->flask-cors) (2.1.3)\n",
      "Note: you may need to restart the kernel to use updated packages.\n"
     ]
    }
   ],
   "source": [
    "pip install flask-cors"
   ]
  },
  {
   "cell_type": "markdown",
   "id": "15078087-2bc2-4891-bd16-dab636ab044d",
   "metadata": {},
   "source": [
    "### Installed Libraries\r\n",
    "1. **Flask**:\r\n",
    "   - A web framework for building APIs and web applications.\r\n",
    "   - Installed version: `3.0.3`.\r\n",
    "\r\n",
    "2. **nest_asyncio**:\r\n",
    "   - Enables the use of asynchronous loops in environments like Jupyter Notebooks.\r\n",
    "   - Installed version: `1.6.0`.\r\n",
    "\r\n",
    "3. **flask-cors**:\r\n",
    "   - Handles Cross-Origin Resource Sharing (CORS) to enable frontend-backend communication.\r\n",
    "   - Installed version: `5.0.0`.\r\n",
    "\r\n",
    "### Note:\r\n",
    "- Libraries were already installed, as indicated by \"Requirement already satisfied\".\r\n",
    "- Restart the kernel if needed to use updated packages.\r\n"
   ]
  },
  {
   "cell_type": "code",
   "execution_count": null,
   "id": "2de31988-0118-4bad-b23e-7958aa2f55e2",
   "metadata": {},
   "outputs": [
    {
     "name": "stdout",
     "output_type": "stream",
     "text": [
      "Model and vectorizer loaded successfully.\n",
      " * Serving Flask app '__main__'\n",
      " * Debug mode: on\n"
     ]
    },
    {
     "name": "stderr",
     "output_type": "stream",
     "text": [
      "WARNING: This is a development server. Do not use it in a production deployment. Use a production WSGI server instead.\n",
      " * Running on http://127.0.0.1:8080\n",
      "Press CTRL+C to quit\n",
      "127.0.0.1 - - [06/Jan/2025 01:57:19] \"GET / HTTP/1.1\" 200 -\n",
      "127.0.0.1 - - [06/Jan/2025 01:57:28] \"POST /predict HTTP/1.1\" 200 -\n"
     ]
    }
   ],
   "source": [
    "import nest_asyncio\n",
    "from flask import Flask, request, jsonify, render_template\n",
    "import joblib\n",
    "from flask_cors import CORS\n",
    "\n",
    "# Allow Flask to run inside Jupyter Notebook\n",
    "nest_asyncio.apply()\n",
    "\n",
    "# Load models and vectorizer\n",
    "try:\n",
    "    lr_model = joblib.load('logistic_regression_model.pkl')\n",
    "    tfidf_vectorizer = joblib.load('tfidf_vectorizer.pkl')\n",
    "    print(\"Model and vectorizer loaded successfully.\")\n",
    "except Exception as e:\n",
    "    print(f\"Error loading model or vectorizer: {e}\")\n",
    "\n",
    "app = Flask(__name__, template_folder='templates2')\n",
    "\n",
    "CORS(app)\n",
    "\n",
    "# Home route\n",
    "@app.route('/')\n",
    "def home():\n",
    "    try:\n",
    "        return render_template('index.html')\n",
    "    except Exception as e:\n",
    "        print(f\"Error rendering template: {e}\")\n",
    "        return jsonify({\"error\": \"Could not load the homepage\"}), 500\n",
    "\n",
    "# Predict route\n",
    "@app.route('/predict', methods=['POST'])\n",
    "def predict():\n",
    "    try:\n",
    "        # Get JSON data from the request\n",
    "        data = request.json\n",
    "        if 'resume' not in data:\n",
    "            return jsonify({\"error\": \"Missing 'resume' in the request\"}), 400\n",
    "\n",
    "        text = data['resume']\n",
    "        # Transform text using TF-IDF vectorizer\n",
    "        text_tfidf = tfidf_vectorizer.transform([text])\n",
    "        # Predict the job role\n",
    "        prediction = lr_model.predict(text_tfidf)[0]\n",
    "        return jsonify({'job_role': prediction})\n",
    "\n",
    "    except Exception as e:\n",
    "        print(f\"Error during prediction: {e}\")\n",
    "        return jsonify({\"error\": \"An error occurred during prediction\"}), 500\n",
    "\n",
    "# Run Flask app with debugging enabled\n",
    "if __name__ == '__main__':\n",
    "    app.run(debug=True, use_reloader=False, port=8080)\n"
   ]
  },
  {
   "cell_type": "markdown",
   "id": "7dca7158-80b0-48cd-b698-feffabfa7a09",
   "metadata": {},
   "source": [
    "### Flask Application for Resume Classifier\r\n",
    "1. **Libraries and Setup**:\r\n",
    "   - `nest_asyncio`: Enables Flask to run inside a Jupyter Notebook.\r\n",
    "   - `Flask`: Framework for building the API and rendering HTML templates.\r\n",
    "   - `joblib`: Used to load the saved model and vectorizer.\r\n",
    "   - `CORS`: Handles Cross-Origin Resource Sharing to allow communication between the backend and frontend.\r\n",
    "\r\n",
    "2. **Model and Vectorizer Loading**:\r\n",
    "   - Loads the `logistic_regression_model.pkl` and `tfidf_vectorizer.pkl`.\r\n",
    "   - Includes error handling to catch issues during the loading process.\r\n",
    "\r\n",
    "3. **Routes**:\r\n",
    "   - **Home Route (`/`)**:\r\n",
    "     - Renders the `index.html` template.\r\n",
    "     - Returns a JSON error message if the template cannot be loaded.\r\n",
    "   - **Predict Route (`/predict`)**:\r\n",
    "     - Accepts JSON input via POST requests.\r\n",
    "     - Extracts and processes the `resume` field.\r\n",
    "     - Uses the TF-IDF vectorizer and logistic regression model to predict the job role.\r\n",
    "     - Returns the predicted job role or an error message if the process fails.\r\n",
    "\r\n",
    "4. **Running the Flask App**:\r\n",
    "   - Runs the app with debugging enabled on port 8080.\r\n",
    "   - `use_reloader=False`: Prevents duplicate Flask server instances in Jupyter.\r\n"
   ]
  },
  {
   "cell_type": "code",
   "execution_count": null,
   "id": "705b81f7-20bf-4509-ac9b-a4207a5489f3",
   "metadata": {},
   "outputs": [],
   "source": []
  }
 ],
 "metadata": {
  "kernelspec": {
   "display_name": "Python 3 (ipykernel)",
   "language": "python",
   "name": "python3"
  },
  "language_info": {
   "codemirror_mode": {
    "name": "ipython",
    "version": 3
   },
   "file_extension": ".py",
   "mimetype": "text/x-python",
   "name": "python",
   "nbconvert_exporter": "python",
   "pygments_lexer": "ipython3",
   "version": "3.12.4"
  }
 },
 "nbformat": 4,
 "nbformat_minor": 5
}
