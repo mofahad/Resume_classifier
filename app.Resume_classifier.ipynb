{
 "cells": [
  {
   "cell_type": "code",
   "execution_count": 1,
   "id": "8464d88d-c14d-4959-803d-d1a025332a0d",
   "metadata": {},
   "outputs": [
    {
     "name": "stdout",
     "output_type": "stream",
     "text": [
      "Requirement already satisfied: flask in c:\\users\\mdfah\\anaconda4\\lib\\site-packages (3.0.3)\n",
      "Requirement already satisfied: nest_asyncio in c:\\users\\mdfah\\anaconda4\\lib\\site-packages (1.6.0)\n",
      "Requirement already satisfied: Werkzeug>=3.0.0 in c:\\users\\mdfah\\anaconda4\\lib\\site-packages (from flask) (3.0.3)\n",
      "Requirement already satisfied: Jinja2>=3.1.2 in c:\\users\\mdfah\\anaconda4\\lib\\site-packages (from flask) (3.1.4)\n",
      "Requirement already satisfied: itsdangerous>=2.1.2 in c:\\users\\mdfah\\anaconda4\\lib\\site-packages (from flask) (2.2.0)\n",
      "Requirement already satisfied: click>=8.1.3 in c:\\users\\mdfah\\anaconda4\\lib\\site-packages (from flask) (8.1.7)\n",
      "Requirement already satisfied: blinker>=1.6.2 in c:\\users\\mdfah\\anaconda4\\lib\\site-packages (from flask) (1.6.2)\n",
      "Requirement already satisfied: colorama in c:\\users\\mdfah\\anaconda4\\lib\\site-packages (from click>=8.1.3->flask) (0.4.6)\n",
      "Requirement already satisfied: MarkupSafe>=2.0 in c:\\users\\mdfah\\anaconda4\\lib\\site-packages (from Jinja2>=3.1.2->flask) (2.1.3)\n",
      "Note: you may need to restart the kernel to use updated packages.\n"
     ]
    }
   ],
   "source": [
    "pip install flask nest_asyncio\n"
   ]
  },
  {
   "cell_type": "code",
   "execution_count": null,
   "id": "2de31988-0118-4bad-b23e-7958aa2f55e2",
   "metadata": {},
   "outputs": [
    {
     "name": "stdout",
     "output_type": "stream",
     "text": [
      " * Serving Flask app '__main__'\n",
      " * Debug mode: off\n"
     ]
    },
    {
     "name": "stderr",
     "output_type": "stream",
     "text": [
      "WARNING: This is a development server. Do not use it in a production deployment. Use a production WSGI server instead.\n",
      " * Running on http://127.0.0.1:8080\n",
      "Press CTRL+C to quit\n",
      "127.0.0.1 - - [05/Jan/2025 22:47:33] \"POST /predict HTTP/1.1\" 200 -\n",
      "127.0.0.1 - - [05/Jan/2025 22:50:32] \"POST /predict HTTP/1.1\" 200 -\n",
      "127.0.0.1 - - [05/Jan/2025 22:50:58] \"POST /predict HTTP/1.1\" 200 -\n",
      "127.0.0.1 - - [05/Jan/2025 22:52:43] \"GET / HTTP/1.1\" 404 -\n",
      "127.0.0.1 - - [05/Jan/2025 22:52:43] \"GET /favicon.ico HTTP/1.1\" 404 -\n"
     ]
    }
   ],
   "source": [
    "import nest_asyncio\n",
    "from flask import Flask, request, jsonify\n",
    "import joblib\n",
    "\n",
    "# Allow Flask to run inside Jupyter Notebook\n",
    "nest_asyncio.apply()\n",
    "\n",
    "# Load models and vectorizer\n",
    "lr_model = joblib.load('logistic_regression_model.pkl')\n",
    "tfidf_vectorizer = joblib.load('tfidf_vectorizer.pkl')\n",
    "\n",
    "# Create Flask app\n",
    "app = Flask(__name__)\n",
    "\n",
    "@app.route('/predict', methods=['POST'])\n",
    "def predict():\n",
    "    data = request.json\n",
    "    text = data['resume']\n",
    "    text_tfidf = tfidf_vectorizer.transform([text])\n",
    "    prediction = lr_model.predict(text_tfidf)[0]\n",
    "    return jsonify({'job_role': prediction})\n",
    "\n",
    "# Run Flask app\n",
    "app.run(port=8080)\n"
   ]
  },
  {
   "cell_type": "code",
   "execution_count": null,
   "id": "3984b2b8-513d-4d3d-a47d-20a3808cd717",
   "metadata": {},
   "outputs": [],
   "source": []
  }
 ],
 "metadata": {
  "kernelspec": {
   "display_name": "Python 3 (ipykernel)",
   "language": "python",
   "name": "python3"
  },
  "language_info": {
   "codemirror_mode": {
    "name": "ipython",
    "version": 3
   },
   "file_extension": ".py",
   "mimetype": "text/x-python",
   "name": "python",
   "nbconvert_exporter": "python",
   "pygments_lexer": "ipython3",
   "version": "3.12.4"
  }
 },
 "nbformat": 4,
 "nbformat_minor": 5
}
